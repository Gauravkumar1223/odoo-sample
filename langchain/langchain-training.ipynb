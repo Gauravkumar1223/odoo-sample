{
 "cells": [
  {
   "cell_type": "code",
   "execution_count": 32,
   "id": "initial_id",
   "metadata": {
    "collapsed": true,
    "ExecuteTime": {
     "end_time": "2023-11-15T16:03:20.286662Z",
     "start_time": "2023-11-15T16:03:20.283694Z"
    }
   },
   "outputs": [],
   "source": [
    "import os\n",
    "\n",
    "from langchain.chat_models import ChatOpenAI as ChatOpenAI\n",
    "from langchain.output_parsers import StructuredOutputParser\n",
    "from langchain.prompts import PromptTemplate\n",
    "\n",
    "deployed_model = os.environ.get(\"OPENAI_DEPLOYMENT_NAME\")"
   ]
  },
  {
   "cell_type": "code",
   "execution_count": 36,
   "outputs": [
    {
     "name": "stderr",
     "output_type": "stream",
     "text": [
      "WARNING! deployment_id is not default parameter.\n",
      "                    deployment_id was transferred to model_kwargs.\n",
      "                    Please confirm that deployment_id is what you intended.\n"
     ]
    }
   ],
   "source": [
    "llm = ChatOpenAI(deployment_id=\"frynol-gpt-3-5\")"
   ],
   "metadata": {
    "collapsed": false,
    "ExecuteTime": {
     "end_time": "2023-11-15T16:03:52.196225Z",
     "start_time": "2023-11-15T16:03:52.191239Z"
    }
   },
   "id": "13ff2fc6bbca4c72"
  },
  {
   "cell_type": "code",
   "execution_count": 37,
   "outputs": [
    {
     "data": {
      "text/plain": "\"<movie>Splash</movie>\\n<movie>Bachelor Party</movie>\\n<movie>The Money Pit</movie>\\n<movie>Big</movie>\\n<movie>Punchline</movie>\\n<movie>The 'Burbs</movie>\\n<movie>Turner & Hooch</movie>\\n<movie>Joe Versus the Volcano</movie>\\n<movie>A League of Their Own</movie>\\n<movie>Philadelphia</movie>\\n<movie>Forrest Gump</movie>\\n<movie>Apollo 13</movie>\\n<movie>Toy Story</movie>\\n<movie>That Thing You Do!</movie>\\n<movie>Saving Private Ryan</movie>\\n<movie>You've Got Mail</movie>\\n<movie>The Green Mile</movie>\\n<movie>Cast Away</movie>\\n<movie>Road to Perdition</movie>\\n<movie>Catch Me If You Can</movie>\\n<movie>The Terminal</movie>\\n<movie>The Polar Express</movie>\\n<movie>The Da Vinci Code</movie>\\n<movie>Charlie Wilson's War</movie>\\n<movie>Angels & Demons</movie>\\n<movie>Toy Story 3</movie>\\n<movie>Larry Crowne</movie>\\n<movie>Extremely Loud & Incredibly Close</movie>\\n<movie>Cloud Atlas</movie>\\n<movie>Captain Phillips</movie>\\n<movie>Saving Mr. Banks</movie>\\n<movie>Bridge of Spies</movie>\\n<movie>Sully</movie>\\n<movie>The Post</movie>\\n<movie>The Circle</movie>\\n<movie>The Post</movie>\\n<movie>Toy Story 4</movie>\\n<movie>A Beautiful Day in the Neighborhood</movie>\\n<movie>Greyhound</movie>\\n<movie>News of the World</movie>\""
     },
     "execution_count": 37,
     "metadata": {},
     "output_type": "execute_result"
    }
   ],
   "source": [
    "from langchain.schema import HumanMessage, SystemMessage\n",
    "\n",
    "messages = [\n",
    "    SystemMessage(\n",
    "        content=\"Generate the shortened filmography for Tom Hanks\"\n",
    "    ),\n",
    "    HumanMessage(content=\"Please enclose the movies in <movie></movie> tags\"),\n",
    "]\n",
    "\n",
    "output = llm(messages).content\n",
    "output"
   ],
   "metadata": {
    "collapsed": false,
    "ExecuteTime": {
     "end_time": "2023-11-15T16:04:00.092462Z",
     "start_time": "2023-11-15T16:03:52.718137Z"
    }
   },
   "id": "119cbefaf169150a"
  },
  {
   "cell_type": "code",
   "execution_count": 41,
   "outputs": [],
   "source": [
    "from langchain.output_parsers import StructuredOutputParser, ResponseSchema\n",
    "from langchain.prompts import PromptTemplate, ChatPromptTemplate, HumanMessagePromptTemplate\n",
    "from langchain.llms import AzureOpenAI as OpenAI\n",
    "from langchain.chat_models import ChatOpenAI as ChatOpenAI\n",
    "\n",
    "response_schemas = [\n",
    "    ResponseSchema(name=\"answer\", description=\"answer to the user's question\"),\n",
    "    ResponseSchema(name=\"source\", description=\"source used to answer the user's question, should be a website.\")\n",
    "]\n",
    "output_parser = StructuredOutputParser.from_response_schemas(response_schemas)"
   ],
   "metadata": {
    "collapsed": false,
    "ExecuteTime": {
     "end_time": "2023-11-15T16:04:29.510823Z",
     "start_time": "2023-11-15T16:04:29.501503Z"
    }
   },
   "id": "e711990cea9a8a23"
  },
  {
   "cell_type": "code",
   "execution_count": 42,
   "outputs": [],
   "source": [
    "format_instructions = output_parser.get_format_instructions()\n",
    "prompt = PromptTemplate(\n",
    "    template=\"answer the users question as best as possible.\\n{format_instructions}\\n{question}\",\n",
    "    input_variables=[\"question\"],\n",
    "    partial_variables={\"format_instructions\": format_instructions}\n",
    ")"
   ],
   "metadata": {
    "collapsed": false,
    "ExecuteTime": {
     "end_time": "2023-11-15T16:04:31.575927Z",
     "start_time": "2023-11-15T16:04:31.561086Z"
    }
   },
   "id": "6d384e2ea58589f5"
  },
  {
   "cell_type": "code",
   "execution_count": 43,
   "outputs": [
    {
     "name": "stderr",
     "output_type": "stream",
     "text": [
      "WARNING! deployment_id is not default parameter.\n",
      "                    deployment_id was transferred to model_kwargs.\n",
      "                    Please confirm that deployment_id is what you intended.\n"
     ]
    }
   ],
   "source": [
    "chat_model = ChatOpenAI(temperature=0, deployment_id=\"frynol-gpt-3-5\")"
   ],
   "metadata": {
    "collapsed": false,
    "ExecuteTime": {
     "end_time": "2023-11-15T16:04:37.150600Z",
     "start_time": "2023-11-15T16:04:37.139645Z"
    }
   },
   "id": "f51951fc79819270"
  },
  {
   "cell_type": "code",
   "execution_count": 44,
   "outputs": [],
   "source": [
    "prompt = ChatPromptTemplate(\n",
    "    messages=[\n",
    "        HumanMessagePromptTemplate.from_template(\n",
    "            \"answer the users question as best as possible.\\n{format_instructions}\\n{question}\")\n",
    "    ],\n",
    "    input_variables=[\"question\"],\n",
    "    partial_variables={\"format_instructions\": format_instructions}\n",
    ")"
   ],
   "metadata": {
    "collapsed": false,
    "ExecuteTime": {
     "end_time": "2023-11-15T16:04:42.027496Z",
     "start_time": "2023-11-15T16:04:42.024405Z"
    }
   },
   "id": "d2c364ae167fb261"
  },
  {
   "cell_type": "code",
   "execution_count": 45,
   "outputs": [],
   "source": [
    "_input = prompt.format_prompt(question=\"what's the capital of france?\")\n",
    "output = chat_model(_input.to_messages())"
   ],
   "metadata": {
    "collapsed": false,
    "ExecuteTime": {
     "end_time": "2023-11-15T16:04:45.222744Z",
     "start_time": "2023-11-15T16:04:44.369830Z"
    }
   },
   "id": "68b524c999639588"
  },
  {
   "cell_type": "code",
   "execution_count": 46,
   "outputs": [
    {
     "data": {
      "text/plain": "{'answer': 'The capital of France is Paris.',\n 'source': 'https://en.wikipedia.org/wiki/Paris'}"
     },
     "execution_count": 46,
     "metadata": {},
     "output_type": "execute_result"
    }
   ],
   "source": [
    "output_parser.parse(output.content)"
   ],
   "metadata": {
    "collapsed": false,
    "ExecuteTime": {
     "end_time": "2023-11-15T16:04:46.964511Z",
     "start_time": "2023-11-15T16:04:46.960386Z"
    }
   },
   "id": "6b343617f6e2eb59"
  },
  {
   "cell_type": "code",
   "execution_count": 47,
   "outputs": [
    {
     "data": {
      "text/plain": "{'lc': 1,\n 'type': 'not_implemented',\n 'id': ['langchain', 'chat_models', 'openai', 'ChatOpenAI']}"
     },
     "execution_count": 47,
     "metadata": {},
     "output_type": "execute_result"
    }
   ],
   "source": [
    "from langchain.load.dump import dumpd, dumps\n",
    "\n",
    "dumpd(llm)"
   ],
   "metadata": {
    "collapsed": false,
    "ExecuteTime": {
     "end_time": "2023-11-15T16:04:49.192396Z",
     "start_time": "2023-11-15T16:04:49.175298Z"
    }
   },
   "id": "746345fb90f26f70"
  },
  {
   "cell_type": "code",
   "execution_count": 48,
   "outputs": [],
   "source": [
    "messages = [\n",
    "    SystemMessage(content=\"You're a helpful assistant\"),\n",
    "    HumanMessage(content=\"What is the purpose of model regularization?\"),\n",
    "]"
   ],
   "metadata": {
    "collapsed": false,
    "ExecuteTime": {
     "end_time": "2023-11-15T16:05:01.586741Z",
     "start_time": "2023-11-15T16:05:01.582165Z"
    }
   },
   "id": "947862e2272c2387"
  },
  {
   "cell_type": "code",
   "execution_count": 51,
   "outputs": [
    {
     "ename": "AttributeError",
     "evalue": "'ChatOpenAI' object has no attribute 'batch'",
     "output_type": "error",
     "traceback": [
      "\u001B[0;31m---------------------------------------------------------------------------\u001B[0m",
      "\u001B[0;31mAttributeError\u001B[0m                            Traceback (most recent call last)",
      "Cell \u001B[0;32mIn[51], line 1\u001B[0m\n\u001B[0;32m----> 1\u001B[0m \u001B[43mchat_model\u001B[49m\u001B[38;5;241;43m.\u001B[39;49m\u001B[43mbatch\u001B[49m(messages)\n",
      "\u001B[0;31mAttributeError\u001B[0m: 'ChatOpenAI' object has no attribute 'batch'"
     ]
    }
   ],
   "source": [
    "chat_model.batch(messages)"
   ],
   "metadata": {
    "collapsed": false,
    "ExecuteTime": {
     "end_time": "2023-11-15T16:05:59.055111Z",
     "start_time": "2023-11-15T16:05:59.038620Z"
    }
   },
   "id": "4c34d5a733ef436c"
  },
  {
   "cell_type": "code",
   "execution_count": null,
   "outputs": [],
   "source": [],
   "metadata": {
    "collapsed": false
   },
   "id": "28a347b8ec4fd341"
  }
 ],
 "metadata": {
  "kernelspec": {
   "display_name": "Python 3",
   "language": "python",
   "name": "python3"
  },
  "language_info": {
   "codemirror_mode": {
    "name": "ipython",
    "version": 2
   },
   "file_extension": ".py",
   "mimetype": "text/x-python",
   "name": "python",
   "nbconvert_exporter": "python",
   "pygments_lexer": "ipython2",
   "version": "2.7.6"
  }
 },
 "nbformat": 4,
 "nbformat_minor": 5
}
